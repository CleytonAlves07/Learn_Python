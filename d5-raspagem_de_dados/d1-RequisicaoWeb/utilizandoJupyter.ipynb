{
 "cells": [
  {
   "cell_type": "code",
   "execution_count": 13,
   "metadata": {},
   "outputs": [],
   "source": [
    "nomes_idades = {}\n",
    "for index in range(len(nomes)):\n",
    "    nomes_idades[nomes[index]] = idades[index]\n",
    "    \n"
   ]
  },
  {
   "cell_type": "code",
   "execution_count": 10,
   "metadata": {},
   "outputs": [],
   "source": [
    "nomes = [\"Eli\", \"Raimundo\", \"Cristina\", \"Cleyton\"]\n",
    "idades = random.sample(range(23, 60), 4)"
   ]
  },
  {
   "cell_type": "code",
   "execution_count": 3,
   "metadata": {},
   "outputs": [],
   "source": [
    "import random"
   ]
  },
  {
   "cell_type": "code",
   "execution_count": null,
   "metadata": {},
   "outputs": [],
   "source": []
  }
 ],
 "metadata": {
  "kernelspec": {
   "display_name": ".venv",
   "language": "python",
   "name": "python3"
  },
  "language_info": {
   "codemirror_mode": {
    "name": "ipython",
    "version": 3
   },
   "file_extension": ".py",
   "mimetype": "text/x-python",
   "name": "python",
   "nbconvert_exporter": "python",
   "pygments_lexer": "ipython3",
   "version": "3.8.10"
  },
  "orig_nbformat": 4,
  "vscode": {
   "interpreter": {
    "hash": "9f72a892c69b81438f4199c749f7802575e094bb57ae25e44b6ae100b69187a2"
   }
  }
 },
 "nbformat": 4,
 "nbformat_minor": 2
}
